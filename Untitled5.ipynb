{
  "nbformat": 4,
  "nbformat_minor": 0,
  "metadata": {
    "colab": {
      "provenance": [],
      "authorship_tag": "ABX9TyMBQbAiW6SYw/lY09zkoGI1",
      "include_colab_link": true
    },
    "kernelspec": {
      "name": "python3",
      "display_name": "Python 3"
    },
    "language_info": {
      "name": "python"
    }
  },
  "cells": [
    {
      "cell_type": "markdown",
      "metadata": {
        "id": "view-in-github",
        "colab_type": "text"
      },
      "source": [
        "<a href=\"https://colab.research.google.com/github/Majida1206/PYTHON/blob/main/Untitled5.ipynb\" target=\"_parent\"><img src=\"https://colab.research.google.com/assets/colab-badge.svg\" alt=\"Open In Colab\"/></a>"
      ]
    },
    {
      "cell_type": "code",
      "execution_count": null,
      "metadata": {
        "id": "acMjByiz2EAs"
      },
      "outputs": [],
      "source": [
        "A grocery store wants a program to calculate the total bill for a customer.\n",
        "a. Store the prices of items in a dictionary (e.g., {'apple': 10, 'milk': 50})\n",
        "b. Take the items purchased and their quantities as input.\n",
        "c. Calculate and display the total bill amount."
      ]
    },
    {
      "cell_type": "code",
      "source": [
        "grocery_items = {'apple':20,'orange':30,'milk':40,'oil':50,'curd':40}\n",
        "purchased_items = {'apple':2,'orange':3,'oil':4,'curd':2}\n",
        "\n",
        "total_bill = 0\n",
        "for item,price in grocery_items.items():\n",
        "  if item in purchased_items:\n",
        "    total_bill += price * purchased_items[item]\n",
        "print(f'total bill is {total_bill}')\n",
        "\n",
        "\n",
        "\n",
        "\n",
        "\n",
        "\n",
        "\n",
        "\n",
        "\n",
        "\n",
        "\n",
        "\n",
        "\n"
      ],
      "metadata": {
        "colab": {
          "base_uri": "https://localhost:8080/"
        },
        "collapsed": true,
        "id": "ex-SjEXu4nJt",
        "outputId": "27a82a87-1671-436e-aef0-a8665261cf33"
      },
      "execution_count": 33,
      "outputs": [
        {
          "output_type": "stream",
          "name": "stdout",
          "text": [
            "total bill is 410\n"
          ]
        }
      ]
    },
    {
      "cell_type": "markdown",
      "source": [
        "2. Student Grade Calculator\n",
        "A teacher wants a program to calculate grades for students based on their marks.\n",
        "a. Store marks for 5 subjects in a list.\n",
        "b. Calculate the average and determine the grade:\n",
        "o 90+ -> A\n",
        "o 70-89 -> B\n",
        "o 50-69 -> C\n",
        "o <50 -> F\n",
        "c. Display the average and the grade"
      ],
      "metadata": {
        "id": "nC0oTlHeVakN"
      }
    },
    {
      "cell_type": "code",
      "source": [
        "a=[40,50,60,30,80]\n",
        "total=sum(a)\n",
        "count=len(a)\n",
        "average = total/count\n",
        "print(average)\n",
        "#Average=52 , Grade= C\n",
        "if (average >= 90 ) :\n",
        "  print('A Grade')\n",
        "elif (average >= 89):\n",
        "  print('B Grade')\n",
        "elif (average >= 50):\n",
        "  print('C grade')\n",
        "else:\n",
        "  print('fail')\n"
      ],
      "metadata": {
        "colab": {
          "base_uri": "https://localhost:8080/"
        },
        "id": "aiXRKK3D9jfF",
        "outputId": "9173721c-6d15-4c67-de5b-812dbf559e3d"
      },
      "execution_count": 62,
      "outputs": [
        {
          "output_type": "stream",
          "name": "stdout",
          "text": [
            "52.0\n",
            "C grade\n"
          ]
        }
      ]
    },
    {
      "cell_type": "markdown",
      "source": [
        "3. A movie theatre wants to automate ticket booking for customers.\n",
        "a. Use a list to store the available seats (e.g., [1, 2, 3, ..., 20]).\n",
        "b. Allow the customer to book a seat by entering the seat number.\n",
        "c. After booking, remove the seat from the list of available seats.\n",
        "d. Display the remaining available seats"
      ],
      "metadata": {
        "id": "lyousUJ2eP4g"
      }
    },
    {
      "cell_type": "markdown",
      "source": [],
      "metadata": {
        "id": "cXWQtc_CVZUA"
      }
    },
    {
      "cell_type": "code",
      "source": [
        "available_seats = [1,2,3,4,5,6,7,8,9]\n",
        "seat = print(int(input('Enter a seat_number: ')))\n",
        "while seat == 9:\n",
        "      print('Thank you for booking')\n",
        "      seat-=1\n",
        "      break\n",
        "\n",
        "available_seats.remove(seat)\n",
        "\n",
        "\n",
        "\n",
        "\n",
        "\n",
        "\n",
        "\n"
      ],
      "metadata": {
        "id": "yLo6ufdtLZyt"
      },
      "execution_count": null,
      "outputs": []
    },
    {
      "cell_type": "code",
      "source": [],
      "metadata": {
        "id": "3kygOzq8qREg"
      },
      "execution_count": 89,
      "outputs": []
    },
    {
      "cell_type": "markdown",
      "source": [],
      "metadata": {
        "id": "0IAqt1WzVYIQ"
      }
    },
    {
      "cell_type": "markdown",
      "source": [],
      "metadata": {
        "id": "toxG27VHLWmk"
      }
    },
    {
      "cell_type": "markdown",
      "source": [],
      "metadata": {
        "id": "q2EWYx_I4j_Y"
      }
    }
  ]
}